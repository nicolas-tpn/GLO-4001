{
 "cells": [
  {
   "cell_type": "markdown",
   "id": "19428efb2431ba84",
   "metadata": {},
   "source": [
    "# Robotique Mobile - Travail Pratique 3"
   ]
  },
  {
   "cell_type": "markdown",
   "id": "3e9735a49009fe3e",
   "metadata": {},
   "source": [
    "**N.B. _Il est bien important de lire l'énoncé du travail pratique au complet avant de commencer._**\n",
    "\n",
    "**N.B. _Vous devrez produire du code. Nous avons indiqué les endroits à compléter à l'aide de TODO. Il y a aussi des questions d'analyse à répondre directement dans ce document._**"
   ]
  },
  {
   "cell_type": "markdown",
   "id": "67d5b16d5dcf9ff5",
   "metadata": {},
   "source": [
    "# Question 2 - RRT\n",
    "\n",
    "\n"
   ]
  },
  {
   "cell_type": "code",
   "execution_count": 2,
   "id": "1c6a45dfb200110",
   "metadata": {},
   "outputs": [],
   "source": [
    "import pathlib\n",
    "from typing import List, Optional\n",
    "\n",
    "import cv2\n",
    "import matplotlib.pyplot as plt\n",
    "import numpy as np\n",
    "from scipy.spatial import KDTree\n"
   ]
  },
  {
   "cell_type": "markdown",
   "id": "9f758a50c46cf5c0",
   "metadata": {},
   "source": [
    "## Question 2.1 - RRT\n",
    "\n",
    "En guise de première étape, nous allons implémenter l'algorithme Rapidly-exploring Random Trees (RRT) pour explorer une grille d'occupation.\n",
    "\n",
    "Commençons par charger la carte de l'environnement.\n",
    "Nous utiliserons la carte de l'environnement de test `world.png`.\n",
    "Cette carte est une image en noir et blanc où les pixels noirs représentent les obstacles et les pixels blancs représentent les zones libres.\n",
    "\n",
    "Dans le devoir, vous serez amené à créer votre propre carte à l'aide d'un logiciel de dessin de votre choix.\n"
   ]
  },
  {
   "cell_type": "code",
   "execution_count": 3,
   "id": "e0e7e0ca67631653",
   "metadata": {},
   "outputs": [],
   "source": [
    "def load_world(world_path: str) -> np.ndarray[bool]:\n",
    "    # Convertir l'image en niveaux de gris et binariser\n",
    "    return cv2.imread(world_path, cv2.IMREAD_GRAYSCALE) > 127\n"
   ]
  },
  {
   "cell_type": "code",
   "execution_count": 4,
   "id": "6a70a7ac4247615",
   "metadata": {},
   "outputs": [
    {
     "data": {
      "image/png": "[encoded data removed]",
      "text/plain": [
       "<Figure size 640x480 with 1 Axes>"
      ]
     },
     "metadata": {},
     "output_type": "display_data"
    }
   ],
   "source": [
    "world = load_world('data/world.png')\n",
    "plt.imshow(world, cmap='gray')\n",
    "plt.show()"
   ]
  },
  {
   "cell_type": "markdown",
   "id": "fd03d888faa47756",
   "metadata": {},
   "source": [
    "Pour implémenter l'algorithme RRT, nous devons définir quelques fonctions et classes utilitaires.\n",
    "\n",
    "Commençons par définir une classe `Node` qui représente un noeud dans l'arbre RRT."
   ]
  },
  {
   "cell_type": "code",
   "execution_count": 5,
   "id": "b3d3b51f208b7328",
   "metadata": {},
   "outputs": [],
   "source": [
    "class Node:\n",
    "    # Variable statique pour compter le nombre de noeuds et assigner un ID unique à chaque noeud\n",
    "    NUM_NODES = 0\n",
    "\n",
    "    def __init__(self, pos):\n",
    "        \"\"\"\n",
    "        Noeud de l'arbre RRT\n",
    "        :param pos: Position of the node\n",
    "        \"\"\"\n",
    "        self.pos: np.ndarray = pos\n",
    "        self.id: int = Node.NUM_NODES\n",
    "        Node.NUM_NODES += 1\n",
    "\n",
    "    def __str__(self):\n",
    "        return f\"Node {self.id} at {self.pos}\"\n",
    "\n",
    "    def __repr__(self):\n",
    "        return self.__str__()\n",
    "\n",
    "    def __eq__(self, other):\n",
    "        return self.id == other.id\n",
    "\n",
    "    def __hash__(self):\n",
    "        return hash(self.id)\n"
   ]
  },
  {
   "cell_type": "markdown",
   "id": "91181ce1d0b2f9fc",
   "metadata": {},
   "source": [
    "Ensuite, nous allons définir la classe gérant le graphe de l'arbre RRT."
   ]
  },
  {
   "cell_type": "code",
   "execution_count": 6,
   "id": "bd0a416690c79b68",
   "metadata": {},
   "outputs": [],
   "source": [
    "class Graph:\n",
    "    def __init__(self):\n",
    "        \"\"\"\n",
    "        Graphe de l'arbre RRT\n",
    "        \"\"\"\n",
    "        self.vertices: dict[int, Node] = dict()\n",
    "        self.edges: dict[int, List[int]] = dict()\n",
    "\n",
    "    def __str__(self):\n",
    "        return f\"Graph with {len(self.vertices)} vertices and {sum(len(edges) for edges in self.edges.values())} edges\"\n",
    "\n",
    "    def __repr__(self):\n",
    "        return self.__str__()\n",
    "\n",
    "    def add_vertex(self, node: Node):\n",
    "        \"\"\"\n",
    "        Ajoute un noeud au graphe\n",
    "        :param node: Node à ajouter\n",
    "        :return:\n",
    "        \"\"\"\n",
    "        self.vertices[node.id] = node\n",
    "        self.edges[node.id] = []\n",
    "\n",
    "    def add_edge(self, node1: Node, node2: Node):\n",
    "        \"\"\"\n",
    "        Ajoute une arête entre deux noeuds\n",
    "        :param node1: Node 1\n",
    "        :param node2: Node 2\n",
    "        :return:\n",
    "        \"\"\"\n",
    "        if node1.id not in self.vertices:\n",
    "            raise ValueError(f\"{node1} not in graph\")\n",
    "        if node2.id not in self.vertices:\n",
    "            raise ValueError(f\"{node2} not in graph\")\n",
    "        self.edges[node1.id].append(node2.id)\n",
    "        self.edges[node2.id].append(node1.id)\n",
    "\n",
    "    def get_nearest_vertex(self, pos: np.ndarray) -> Optional[Node]:\n",
    "        \"\"\"\n",
    "        Retourne le noeud le plus proche de la position donnée\n",
    "        :param pos: Position de la requête\n",
    "        :return: Noeud le plus proche\n",
    "        \"\"\"\n",
    "        min_dist = np.inf\n",
    "        nearest_vertex = None\n",
    "        for vertex in self.vertices.values():\n",
    "            dist = np.linalg.norm(vertex.pos - pos)\n",
    "            if dist < min_dist:\n",
    "                min_dist = dist\n",
    "                nearest_vertex = vertex\n",
    "        return nearest_vertex\n",
    "\n",
    "    def get_nearest_vertex_kdtree(self, pos: np.ndarray) -> Optional[Node]:\n",
    "        \"\"\"\n",
    "        Retourne le noeud le plus proche de la position donnée en utilisant un KDTree\n",
    "        N.B. : Cette fonction devrait être plus rapide que get_nearest_vertex pour un grand nombre de noeuds\n",
    "        :param pos: Position de la requête\n",
    "        :return: Noeud le plus proche\n",
    "        \"\"\"\n",
    "        positions = np.array([vertex.pos for vertex in self.vertices.values()])\n",
    "        tree = KDTree(positions)\n",
    "        dist, idx = tree.query(pos)\n",
    "        return list(self.vertices.values())[idx]\n",
    "\n",
    "    def union(self, other):\n",
    "        \"\"\"\n",
    "        Union de deux graphes\n",
    "        :param other: Autre graphe\n",
    "        :return: self\n",
    "        \"\"\"\n",
    "        self.vertices.update(other.vertices)\n",
    "        self.edges.update(other.edges)\n",
    "        return self\n",
    "\n",
    "    def path_between(self, start: Node, end: Node) -> List[Node]:\n",
    "        \"\"\"\n",
    "        Retourne le chemin entre deux noeuds\n",
    "        :param start:\n",
    "        :param end:\n",
    "        :return:\n",
    "        \"\"\"\n",
    "        visited = set()\n",
    "        queue = [(start, [start])]\n",
    "        while queue:\n",
    "            node, path = queue.pop(0)\n",
    "            if node in visited:\n",
    "                continue\n",
    "            visited.add(node)\n",
    "            if node == end:\n",
    "                return path\n",
    "            for neighbour_id in self.edges[node.id]:\n",
    "                neighbour = self.vertices[neighbour_id]\n",
    "                queue.append((neighbour, path + [neighbour]))\n",
    "        return []\n"
   ]
  },
  {
   "cell_type": "markdown",
   "id": "7eb60a5288be2910",
   "metadata": {},
   "source": [
    "Définissons maintenant quelques fonctions utilitaires pour l'algorithme RRT."
   ]
  },
  {
   "cell_type": "markdown",
   "id": "8e3521680b83b446",
   "metadata": {},
   "source": [
    "La fonction suivante valide si un point est dans la carte. Il est important de noter la façon dont l'image est stocké dans le tableau numpy. La première dimension (le nombre de lignes) est l'axe y (la hauteur de l'image) et la deuxième dimension (le nombre de colonnes) est l'axe x (la largeur de l'image). Il faut donc inverser les axes pour accéder à un pixel de l'image."
   ]
  },
  {
   "cell_type": "code",
   "execution_count": 7,
   "id": "e7dc971848d2c31e",
   "metadata": {},
   "outputs": [],
   "source": [
    "def is_in_bounds(world: np.ndarray[bool], pos: np.ndarray) -> bool:\n",
    "    \"\"\"\n",
    "    Returns whether the position is inside the world\n",
    "    :param world: Matrix of the world (0 for free, 1 for obstacle)\n",
    "    :param pos: Position to check\n",
    "    :return: True if the position is inside the world\n",
    "    \"\"\"\n",
    "    # TODO Vérifier si la position est dans la carte\n",
    "    x, y = int(pos[0]), int(pos[1])\n",
    "    return 0 <= x < world.shape[1] and 0 <= y < world.shape[0]"
   ]
  },
  {
   "cell_type": "code",
   "execution_count": null,
   "id": "12f3d1093f4955ec",
   "metadata": {},
   "outputs": [],
   "source": [
    "# Test de la fonction is_in_bounds\n",
    "assert is_in_bounds(world, np.array([150, 300])) == True\n",
    "assert is_in_bounds(world, np.array([680, 200])) == True\n",
    "assert is_in_bounds(world, np.array([700, 200])) == False\n",
    "assert is_in_bounds(world, np.array([100, 400])) == False\n",
    "# Vous pouvez ajouter d'autres tests si vous le souhaitez"
   ]
  },
  {
   "cell_type": "markdown",
   "id": "d9996af2d2fd6c68",
   "metadata": {},
   "source": [
    "La fonction suivante valide si un point est dans un obstacle. Encore une fois, il faut inverser les axes pour accéder à un pixel de l'image."
   ]
  },
  {
   "cell_type": "code",
   "execution_count": 20,
   "id": "c07de5544c62dce9",
   "metadata": {},
   "outputs": [],
   "source": [
    "def is_in_obstacle(world: np.ndarray[bool], pos: np.ndarray) -> bool:\n",
    "    \"\"\"\n",
    "    Retourne si la position est dans un obstacle\n",
    "    :param world: Grille d'occupation (False = obstacle, True = zone libre)\n",
    "    :param pos: Position à vérifier\n",
    "    :return: True si dans un obstacle, False sinon\n",
    "    \"\"\"\n",
    "    # TODO Vérifier si la position est dans un obstacle\n",
    "    return not world[pos[1], pos[0]]\n"
   ]
  },
  {
   "cell_type": "code",
   "execution_count": 21,
   "id": "624b0a2909470dc0",
   "metadata": {},
   "outputs": [],
   "source": [
    "# Test de la fonction is_in_obstacle\n",
    "assert is_in_obstacle(world, np.array([0, 0])) == False\n",
    "assert is_in_obstacle(world, np.array([50, 150])) == True\n",
    "# Vous pouvez ajouter d'autres tests si vous le souhaitez"
   ]
  },
  {
   "cell_type": "markdown",
   "id": "e6ba0b8633f652ea",
   "metadata": {},
   "source": [
    "On fournit la fonction suivante qui utilise [l'algorithme de Bresenham](https://en.wikipedia.org/wiki/Bresenham%27s_line_algorithm) pour valider que le chemin entre deux points est libre de tout obstacle."
   ]
  },
  {
   "cell_type": "code",
   "execution_count": 22,
   "id": "2e792ab39e74b87a",
   "metadata": {},
   "outputs": [],
   "source": [
    "def bresenham(x1, y1, x2, y2):\n",
    "    dx = abs(x2 - x1)\n",
    "    dy = abs(y2 - y1)\n",
    "    sx = 1 if x1 < x2 else -1\n",
    "    sy = 1 if y1 < y2 else -1\n",
    "    err = dx - dy\n",
    "\n",
    "    points = []\n",
    "    while True:\n",
    "        points.append((x1, y1))\n",
    "        if x1 == x2 and y1 == y2:\n",
    "            break\n",
    "        e2 = 2 * err\n",
    "        if e2 > -dy:\n",
    "            err -= dy\n",
    "            x1 += sx\n",
    "        if e2 < dx:\n",
    "            err += dx\n",
    "            y1 += sy\n",
    "\n",
    "    return np.array(points)"
   ]
  },
  {
   "cell_type": "code",
   "execution_count": 23,
   "id": "38fbbc04a20206a3",
   "metadata": {},
   "outputs": [],
   "source": [
    "def can_connect(world: np.ndarray[bool], pos1: np.ndarray, pos2: np.ndarray) -> bool:\n",
    "    \"\"\"\n",
    "    Vérifie si la ligne entre pos1 et pos2 est libre de tout obstacle\n",
    "    :param world: Grille d'occupation (False = obstacle, True = zone libre)\n",
    "    :param pos1: Première position\n",
    "    :param pos2: Deuxième position\n",
    "    :return: True si la ligne est libre de tout obstacle, False sinon\n",
    "    \"\"\"\n",
    "    x1, y1 = np.round(pos1).astype(int)\n",
    "    x2, y2 = np.round(pos2).astype(int)\n",
    "    points = bresenham(x1, y1, x2, y2)\n",
    "    for x, y in points:\n",
    "        if not is_in_bounds(world, np.array([x, y])) or is_in_obstacle(world, np.array([x, y])):\n",
    "            return False\n",
    "    return True"
   ]
  },
  {
   "cell_type": "markdown",
   "id": "32dfd945f72a2082",
   "metadata": {},
   "source": [
    "Maintenant, utilisons ces fonctions pour définir `is_valid_conf` qui valide si une configuration est valide. Une configuration est valide si elle est dans les limites de la carte et que le chemin pour s'y rendre est libre de tout obstacle."
   ]
  },
  {
   "cell_type": "code",
   "execution_count": 24,
   "id": "2e1da9f1ad9b14e0",
   "metadata": {},
   "outputs": [],
   "source": [
    "def is_valid_conf(world: np.ndarray[bool], from_pos: np.ndarray, to_pos: np.ndarray) -> bool:\n",
    "    \"\"\"\n",
    "    Vérifie si une configuration est valide (dans les limites de la carte et sans obstacle entre les deux positions)\n",
    "    :param world: Grill d'occupation (False = obstacle, True = zone libre)\n",
    "    :param from_pos: Position de départ\n",
    "    :param to_pos: Position d'arrivée\n",
    "    :return: True si la configuration est valide, False sinon\n",
    "    \"\"\"\n",
    "    # TODO Vérifier si la configuration est valide\n",
    "    return is_in_bounds(world, from_pos) and can_connect(world, from_pos, to_pos)"
   ]
  },
  {
   "cell_type": "code",
   "execution_count": 25,
   "id": "128362c714a13509",
   "metadata": {},
   "outputs": [],
   "source": [
    "# Test de la fonction is_valid_conf\n",
    "assert is_valid_conf(world, np.array([0, 0]), np.array([50, 50])) == True\n",
    "assert is_valid_conf(world, np.array([10, 50]), np.array([300, 120])) == True\n",
    "assert is_valid_conf(world, np.array([0, 0]), np.array([100, 150])) == False\n",
    "assert is_valid_conf(world, np.array([500, 300]), np.array([380, 100])) == True\n",
    "assert is_valid_conf(world, np.array([250, 300]), np.array([500, 50])) == False\n",
    "# Vous pouvez ajouter d'autres tests si vous le souhaitez"
   ]
  },
  {
   "cell_type": "markdown",
   "id": "59f768968b40f432",
   "metadata": {},
   "source": [
    "Nous sommes maintenant prêts à implémenter l'algorithme RRT.\n",
    "Comme défini dans les notes de cours, l'algorithme utilise quelques sous-fonctions:\n",
    "- `rand_conf` pour générer une configuration aléatoire\n",
    "- `nearest_vertex` pour trouver le noeud le plus proche\n",
    "- `new_conf` pour générer une nouvelle configuration à partir de deux positions et un pas\n",
    "- `extend` pour étendre l'arbre avec une nouvelle configuration\n",
    "\n",
    "Implémentons ces fonctions."
   ]
  },
  {
   "cell_type": "code",
   "execution_count": 43,
   "id": "c905189ea0a4b7fa",
   "metadata": {},
   "outputs": [],
   "source": [
    "def rand_conf(world: np.ndarray[bool]) -> np.ndarray:\n",
    "    \"\"\"\n",
    "    Génère une configuration aléatoire\n",
    "    :param world: Grille d'occupation (False = obstacle, True = zone libre)\n",
    "    :return: Configuration aléatoire\n",
    "    \"\"\"\n",
    "    # TODO Générer une configuration aléatoire dans les limites de la carte\n",
    "    return np.array([np.random.randint(0, world.shape[1]), np.random.randint(0, world.shape[0])])"
   ]
  },
  {
   "cell_type": "code",
   "execution_count": 45,
   "id": "84b81d485f0d68e5",
   "metadata": {},
   "outputs": [],
   "source": [
    "# Test de la fonction rand_conf\n",
    "for _ in range(100):\n",
    "    conf = rand_conf(world)\n",
    "    assert is_in_bounds(world, conf) == True"
   ]
  },
  {
   "cell_type": "code",
   "execution_count": 46,
   "id": "21a83a39a1a9b639",
   "metadata": {},
   "outputs": [],
   "source": [
    "def nearest_vertex(graph: Graph, pos: np.ndarray) -> Node:\n",
    "    \"\"\"\n",
    "    Retourne le noeud le plus proche de la position donnée\n",
    "    :param graph: Graphe de l'arbre RRT\n",
    "    :param pos: Position de la requête\n",
    "    :return: Noeud le plus proche\n",
    "    \"\"\"\n",
    "    # TODO Trouver le noeud le plus proche\n",
    "    return graph.get_nearest_vertex_kdtree(pos)"
   ]
  },
  {
   "cell_type": "code",
   "execution_count": 47,
   "id": "dd465aa7c1160b29",
   "metadata": {},
   "outputs": [],
   "source": [
    "# Test de la fonction nearest_vertex\n",
    "graph = Graph()\n",
    "n0 = Node(np.array([0, 0]))\n",
    "n1 = Node(np.array([1, 1]))\n",
    "n2 = Node(np.array([2, -1]))\n",
    "n3 = Node(np.array([3, 2]))\n",
    "\n",
    "graph.add_vertex(n0)\n",
    "graph.add_vertex(n1)\n",
    "graph.add_vertex(n2)\n",
    "graph.add_vertex(n3)\n",
    "\n",
    "graph.add_edge(n0, n1)\n",
    "graph.add_edge(n1, n2)\n",
    "graph.add_edge(n2, n3)\n",
    "\n",
    "assert nearest_vertex(graph, np.array([-1, 0])) == n0\n",
    "assert nearest_vertex(graph, np.array([1.5, 0])) == n1\n",
    "assert nearest_vertex(graph, np.array([1.5, -1])) == n2\n",
    "assert nearest_vertex(graph, np.array([2, 2])) == n3\n",
    "assert nearest_vertex(graph, np.array([2, 10])) == n3\n",
    "# Vous pouvez ajouter d'autres tests si vous le souhaitez"
   ]
  },
  {
   "cell_type": "code",
   "execution_count": 93,
   "id": "3b90f07c97b19dcf",
   "metadata": {},
   "outputs": [],
   "source": [
    "\n",
    "def new_conf(world: np.ndarray[bool], from_pos: np.ndarray, to_pos: np.ndarray, step_size: float) -> (bool, Node):\n",
    "    \"\"\"\n",
    "    Génère une nouvelle configuration à partir de from_pos vers to_pos avec un pas donné\n",
    "    La fonction retourne un tuple (is_valid, new_pos) où is_valid est True si la nouvelle configuration est valide\n",
    "    :param world: Grille d'occupation (False = obstacle, True = zone libre)\n",
    "    :param from_pos: Position de départ\n",
    "    :param to_pos: Position d'arrivée\n",
    "    :param step_size: Taille du pas\n",
    "    :return: Tuple (is_valid, nouvelle_position), nouvelle_position est de type Node\n",
    "    \"\"\"\n",
    "    # TODO Générer une nouvelle configuration\n",
    "    return (is_valid_conf(world, from_pos, to_pos), Node(np.array(from_pos+((to_pos-from_pos)/np.linalg.norm(to_pos-from_pos)))*step_size))"
   ]
  },
  {
   "cell_type": "code",
   "execution_count": 92,
   "id": "467867b80d925004",
   "metadata": {},
   "outputs": [
    {
     "name": "stdout",
     "output_type": "stream",
     "text": [
      "[1. 0.]\n",
      "[110.94003925 166.41005887]\n",
      "[100.   0.]\n"
     ]
    }
   ],
   "source": [
    "# Test de la fonction new_conf\n",
    "valid_1, node_1 = new_conf(world, np.array([0, 0]), np.array([10, 0]), 1)\n",
    "assert valid_1 == True\n",
    "assert (node_1.pos == np.array([1, 0])).all()\n",
    "\n",
    "valid_2, node_2 = new_conf(world, np.array([0, 0]), np.array([200, 300]), 200)\n",
    "assert valid_2 == False\n",
    "\n",
    "valid_3, node_3 = new_conf(world, np.array([0, 0]), np.array([10, 0]), 100)\n",
    "assert valid_3 == True\n",
    "assert (node_3.pos == np.array([100, 0])).all()\n",
    "# Vous pouvez ajouter d'autres tests si vous le souhaitez"
   ]
  },
  {
   "cell_type": "markdown",
   "id": "3180741def576efc",
   "metadata": {},
   "source": [
    "Après beaucoup de travail, nous sommes enfin prêts à implémenter la fonction `extend` qui étend l'arbre RRT.\n",
    "Complétez la fonction `rrt`."
   ]
  },
  {
   "cell_type": "code",
   "execution_count": 94,
   "id": "bd1ab7c22f19eb23",
   "metadata": {},
   "outputs": [],
   "source": [
    "# Préparation pour l'affichage\n",
    "fig_path = pathlib.Path(\"figs/rrt\")\n",
    "fig_path.mkdir(exist_ok=True, parents=True)"
   ]
  },
  {
   "cell_type": "code",
   "execution_count": null,
   "id": "1a150158a79aef2d",
   "metadata": {},
   "outputs": [],
   "source": [
    "\n",
    "def rrt(world: np.ndarray[bool], start: np.ndarray, max_iter: int, step_size: float, show: bool = False) -> Graph:\n",
    "    \"\"\"\n",
    "    Rapidly-exploring Random Trees (RRT)\n",
    "    :param world: Grille d'occupation (False = obstacle, True = zone libre)\n",
    "    :param start: Position de départ\n",
    "    :param max_iter: Nombre maximal d'itérations\n",
    "    :param step_size: Taille du pas\n",
    "    :return: Graphe de l'arbre RRT\n",
    "    \"\"\"\n",
    "    G = Graph()\n",
    "    start_node = Node(start)\n",
    "    G.add_vertex(start_node)\n",
    "\n",
    "    for k in range(max_iter):\n",
    "        # TODO Appliquer un pas de l'algorithme RRT avec les fonctions définies précédemment\n",
    "        q_rand = rand_conf(world)\n",
    "        q_near = nearest_vertex(G, q_rand)\n",
    "        is_valid, q_new = new_conf(world, q_near.pos, q_rand, step_size)\n",
    "\n",
    "        # TODO Ajouter le noeud au graphe (et l'arête) si la configuration est valide\n",
    "        if is_valid:\n",
    "            print(\"on ajoute\")\n",
    "            G.add_vertex(q_new)\n",
    "            G.add_edge(q_near, q_new)\n",
    "\n",
    "        # Affichage\n",
    "        if show:\n",
    "            fig, ax = plt.subplots()\n",
    "            ax.imshow(world, cmap='gray')\n",
    "            ax.plot(start[0], start[1], 'ro', label='Start')\n",
    "            ax.plot(q_rand[0], q_rand[1], 'rx', label='Random')\n",
    "            ax.plot([q_near.pos[0], q_rand[0]], [q_near.pos[1], q_rand[1]], color='pink', linestyle='--',\n",
    "                    label='Direction')\n",
    "            ax.plot(q_near.pos[0], q_near.pos[1], 'go', label='Nearest')\n",
    "            ax.plot(q_new.pos[0], q_new.pos[1], color='pink', marker='o', label='New')\n",
    "            for node in G.vertices.values():\n",
    "                for neighbour_id in G.edges[node.id]:\n",
    "                    neighbour = G.vertices[neighbour_id]\n",
    "                    ax.plot([node.pos[0], neighbour.pos[0]], [node.pos[1], neighbour.pos[1]], 'b')\n",
    "            ax.legend()\n",
    "            ax.set_title(f'RRT at {k}')\n",
    "            plt.savefig(fig_path / f'{k:04d}.png')\n",
    "            plt.close(fig)\n",
    "\n",
    "    return G"
   ]
  },
  {
   "cell_type": "code",
   "execution_count": 101,
   "id": "21b9bc3298a52893",
   "metadata": {},
   "outputs": [
    {
     "name": "stdout",
     "output_type": "stream",
     "text": [
      "Node 6647 at [407.97205026 506.0370866 ]\n",
      "Node 6648 at [409.79602701 502.00944144]\n",
      "Node 6649 at [409.66705228 497.4410744 ]\n",
      "on ajoute\n",
      "Node 6650 at [409.701425   502.42535625]\n",
      "on ajoute\n",
      "Node 6651 at [4090.68625885 4966.39896607]\n",
      "Node 6652 at [408.40606622 505.41646108]\n",
      "Node 6653 at [409.97925309 500.64382278]\n",
      "Node 6654 at [4092.68004714 4965.2414417 ]\n",
      "Node 6655 at [4087.59344461 4970.21471587]\n",
      "Node 6656 at [409.97315766 499.26779349]\n",
      "Node 6657 at [4101.61198177 4965.71695405]\n",
      "Node 6658 at [409.88597659 498.494189  ]\n",
      "on ajoute\n",
      "Node 6659 at [4098.55332588 4964.58959065]\n",
      "Node 6660 at [408.68243142 504.96138938]\n",
      "on ajoute\n",
      "Node 6661 at [4103.09888604 4966.75070834]\n",
      "Node 6662 at [4101.55664554 4965.68573368]\n",
      "Node 6663 at [4101.45768208 4965.63104546]\n",
      "Node 6664 at [4103.47626037 4967.08394822]\n",
      "Node 6665 at [409.4026585  503.40441084]\n",
      "on ajoute\n",
      "Node 6666 at [4101.42148854 4965.61140738]\n",
      "Node 6667 at [409.31763277 503.6306638 ]\n",
      "Node 6668 at [404.05661971 509.14023175]\n",
      "Node 6669 at [4091.43231103 4965.89246142]\n",
      "Node 6670 at [4103.57099241 4967.17309801]\n",
      "Node 6671 at [4098.51341874 4964.58202409]\n",
      "Node 6672 at [4100.34609997 4965.11073685]\n",
      "Node 6673 at [4095.90907719 4964.43977608]\n",
      "Node 6674 at [409.97000683 500.77392747]\n",
      "Node 6675 at [4094.19528974 4964.72192457]\n",
      "Node 6676 at [4104.75074983 4968.51923051]\n",
      "Node 6677 at [4100.67284874 4965.24660806]\n",
      "Node 6678 at [4087.91639397 4969.5769847 ]\n",
      "Node 6679 at [4099.27371591 4964.75551815]\n",
      "Node 6680 at [4090.95505222 4966.20505105]\n",
      "Node 6681 at [4103.93534408 4967.5388904 ]\n",
      "Node 6682 at [409.97054486 499.23303501]\n",
      "Node 6683 at [4095.11025345 4964.53321596]\n",
      "Node 6684 at [409.30124371 503.67244678]\n",
      "Node 6685 at [408.66185586 504.99722453]\n",
      "Node 6686 at [4090.78090025 4966.32913853]\n",
      "Node 6687 at [4098.49784511 4964.57911678]\n",
      "Node 6688 at [4100.7017241  4965.25927327]\n",
      "Node 6689 at [4105.05806399 4968.96564043]\n",
      "Node 6690 at [4094.89011074 4964.57051364]\n",
      "Node 6691 at [408.71948864 504.89596956]\n",
      "Node 6692 at [409.32361309 496.38472146]\n",
      "on ajoute\n",
      "Node 6693 at [4089.90488707 4954.41838564]\n",
      "Node 6694 at [4089.45637105 4954.58906055]\n",
      "Node 6695 at [4095.38223926 4954.08021814]\n",
      "Node 6696 at [401.50441997 509.88618837]\n",
      "Node 6697 at [405.45109612 508.38364784]\n",
      "Node 6698 at [407.24999434 506.88749462]\n",
      "on ajoute\n",
      "Node 6699 at [4097.47564934 4954.79036723]\n",
      "Node 6700 at [4094.94136972 4953.99367912]\n",
      "Node 6701 at [403.31568227 509.43431243]\n",
      "Node 6702 at [409.31577619 503.63542486]\n",
      "Node 6703 at [400.20828814 509.99783057]\n",
      "Node 6704 at [403.98726111 509.17070056]\n",
      "Node 6705 at [409.993693   499.64489416]\n",
      "Node 6706 at [409.30925467 503.65209222]\n",
      "on ajoute\n",
      "Node 6707 at [4094.20574818 4953.89433344]\n",
      "Node 6708 at [4096.60656491 4954.43232344]\n",
      "Node 6709 at [409.89687371 498.56755775]\n",
      "on ajoute\n",
      "Node 6710 at [4097.69636004 4954.89699914]\n",
      "Node 6711 at [399.9583337 509.9999132]\n",
      "Node 6712 at [408.92499599 495.48951815]\n",
      "on ajoute\n",
      "Node 6713 at [402.32573213 509.72578892]\n",
      "Node 6714 at [4090.65347259 4944.99416379]\n",
      "Node 6715 at [4095.14724171 4946.81916346]\n",
      "Node 6716 at [4089.85118554 4944.9132715 ]\n",
      "Node 6717 at [4082.39877532 4947.61086487]\n",
      "Node 6718 at [4080.42856917 4950.18529143]\n",
      "Node 6719 at [409.00468921 504.34920363]\n",
      "Node 6720 at [4081.22408918 4948.92983172]\n",
      "Node 6721 at [4097.27781355 4948.93250037]\n",
      "Node 6722 at [4080.19375271 4950.65429596]\n",
      "Node 6723 at [4096.29315593 4947.79635132]\n",
      "Node 6724 at [4089.34835861 4944.89566566]\n",
      "Node 6725 at [4084.75761888 4945.96104074]\n",
      "Node 6726 at [399.90909467 509.9995868 ]\n",
      "Node 6727 at [4087.11662921 4945.12538624]\n",
      "Node 6728 at [4097.18438004 4948.80872297]\n",
      "Node 6729 at [4093.82335572 4946.00226012]\n",
      "Node 6730 at [4085.28047467 4945.71677281]\n",
      "Node 6731 at [405.06549049 508.62211147]\n",
      "Node 6732 at [4091.57127083 4945.16833642]\n",
      "Node 6733 at [4097.15695724 4948.77313989]\n",
      "Node 6734 at [409.97402134 499.27965401]\n",
      "Node 6735 at [4094.63627493 4946.46976695]\n",
      "Node 6736 at [399.69402089 509.99531774]\n",
      "Node 6737 at [409.99952874 500.0970828 ]\n",
      "Node 6738 at [409.8386991  498.21114562]\n",
      "on ajoute\n",
      "Node 6739 at [409.96441173 500.84291096]\n",
      "Node 6740 at [409.72936551 502.31072431]\n",
      "on ajoute\n",
      "Node 6741 at [4088.87413648 4944.90224619]\n",
      "Node 6742 at [399.84926336 509.99886386]\n",
      "Node 6743 at [409.71316312 502.3779113 ]\n",
      "on ajoute\n",
      "Node 6744 at [4090.12982151 4944.93396456]\n",
      "Node 6745 at [4098.01996365 4950.09028455]\n",
      "Node 6746 at [410. 500.]\n"
     ]
    },
    {
     "data": {
      "text/plain": [
       "Graph with 14 vertices and 26 edges"
      ]
     },
     "execution_count": 101,
     "metadata": {},
     "output_type": "execute_result"
    }
   ],
   "source": [
    "# Vous pouvez inspecter `figs/rrt` pour voir les images générées\n",
    "rrt(world, np.array([40, 50]), 100, 10, show=True)"
   ]
  },
  {
   "cell_type": "code",
   "execution_count": 83,
   "id": "ffdae96c3f5bc01e",
   "metadata": {},
   "outputs": [],
   "source": [
    "def show_rrt(graph: Graph, start_pos: np.ndarray, world: np.ndarray[bool]):\n",
    "    fig, ax = plt.subplots()\n",
    "    ax.imshow(world, cmap='gray')\n",
    "    ax.plot(start_pos[0], start_pos[1], 'bo', label='Start')\n",
    "    for node in graph.vertices.values():\n",
    "        for neighbour_id in graph.edges[node.id]:\n",
    "            neighbour = graph.vertices[neighbour_id]\n",
    "            ax.plot([node.pos[0], neighbour.pos[0]], [node.pos[1], neighbour.pos[1]], 'b')\n",
    "    plt.show()\n"
   ]
  },
  {
   "cell_type": "code",
   "execution_count": 99,
   "id": "37c41ac645966a44",
   "metadata": {},
   "outputs": [
    {
     "name": "stdout",
     "output_type": "stream",
     "text": [
      "on ajoute\n",
      "on ajoute\n",
      "on ajoute\n",
      "on ajoute\n",
      "on ajoute\n",
      "on ajoute\n",
      "on ajoute\n",
      "on ajoute\n",
      "on ajoute\n",
      "on ajoute\n",
      "on ajoute\n",
      "on ajoute\n",
      "on ajoute\n",
      "on ajoute\n",
      "on ajoute\n",
      "on ajoute\n",
      "on ajoute\n",
      "on ajoute\n",
      "on ajoute\n",
      "on ajoute\n",
      "on ajoute\n",
      "on ajoute\n",
      "on ajoute\n",
      "on ajoute\n",
      "on ajoute\n",
      "on ajoute\n",
      "on ajoute\n",
      "on ajoute\n",
      "on ajoute\n",
      "on ajoute\n",
      "on ajoute\n",
      "on ajoute\n",
      "on ajoute\n",
      "on ajoute\n",
      "on ajoute\n",
      "on ajoute\n",
      "on ajoute\n",
      "on ajoute\n",
      "on ajoute\n",
      "on ajoute\n",
      "on ajoute\n",
      "on ajoute\n",
      "on ajoute\n",
      "on ajoute\n",
      "on ajoute\n",
      "on ajoute\n",
      "on ajoute\n",
      "on ajoute\n",
      "on ajoute\n",
      "on ajoute\n",
      "on ajoute\n",
      "on ajoute\n",
      "on ajoute\n",
      "on ajoute\n",
      "on ajoute\n",
      "on ajoute\n",
      "on ajoute\n",
      "on ajoute\n",
      "on ajoute\n",
      "on ajoute\n",
      "on ajoute\n",
      "on ajoute\n",
      "on ajoute\n",
      "on ajoute\n",
      "on ajoute\n",
      "on ajoute\n",
      "on ajoute\n",
      "on ajoute\n",
      "on ajoute\n",
      "on ajoute\n",
      "on ajoute\n",
      "on ajoute\n",
      "on ajoute\n",
      "on ajoute\n",
      "on ajoute\n",
      "on ajoute\n",
      "on ajoute\n",
      "on ajoute\n",
      "on ajoute\n",
      "on ajoute\n",
      "on ajoute\n",
      "on ajoute\n",
      "on ajoute\n",
      "on ajoute\n",
      "on ajoute\n",
      "on ajoute\n",
      "on ajoute\n",
      "on ajoute\n",
      "on ajoute\n",
      "on ajoute\n",
      "on ajoute\n",
      "on ajoute\n",
      "on ajoute\n",
      "on ajoute\n",
      "on ajoute\n",
      "on ajoute\n",
      "on ajoute\n",
      "on ajoute\n",
      "on ajoute\n",
      "on ajoute\n",
      "on ajoute\n",
      "on ajoute\n",
      "on ajoute\n",
      "on ajoute\n",
      "on ajoute\n",
      "on ajoute\n",
      "on ajoute\n",
      "on ajoute\n",
      "on ajoute\n",
      "on ajoute\n",
      "on ajoute\n",
      "on ajoute\n",
      "on ajoute\n",
      "on ajoute\n",
      "on ajoute\n",
      "on ajoute\n",
      "on ajoute\n",
      "on ajoute\n",
      "on ajoute\n",
      "on ajoute\n",
      "on ajoute\n",
      "on ajoute\n",
      "on ajoute\n",
      "on ajoute\n",
      "on ajoute\n",
      "on ajoute\n",
      "on ajoute\n",
      "on ajoute\n",
      "on ajoute\n",
      "on ajoute\n",
      "on ajoute\n",
      "on ajoute\n",
      "on ajoute\n",
      "on ajoute\n",
      "on ajoute\n",
      "on ajoute\n",
      "on ajoute\n",
      "on ajoute\n",
      "on ajoute\n",
      "on ajoute\n",
      "on ajoute\n",
      "on ajoute\n",
      "on ajoute\n",
      "on ajoute\n",
      "on ajoute\n",
      "on ajoute\n"
     ]
    },
    {
     "data": {
      "image/png": "[encoded data removed]",
      "text/plain": [
       "<Figure size 640x480 with 1 Axes>"
      ]
     },
     "metadata": {},
     "output_type": "display_data"
    }
   ],
   "source": [
    "# Ne pas afficher permet d'exécuter rrt plus rapidement\n",
    "start_pos = np.array([50, 50])\n",
    "graph = rrt(world, start_pos, 1_000, 10)\n",
    "# Affichage du graphe\n",
    "show_rrt(graph, start_pos, world)"
   ]
  },
  {
   "cell_type": "markdown",
   "id": "b8997b759dffa193",
   "metadata": {},
   "source": [
    "## Question 2.2 - RRT-Connect\n",
    "\n",
    "Nous allons maintenant implémenter l'algorithme RRT-Connect.\n",
    "L'algorithme RRT-Connect est une variante de RRT qui connecte deux arbres RRT en construisant un chemin entre eux.\n",
    "Vous pouvez vous référer aux notes de cours pour plus de détails, ou à cette page [Robotic Motion Planning: RRT's de CMU](https://www.cs.cmu.edu/~motionplanning/lecture/lec20.pdf).\n"
   ]
  },
  {
   "cell_type": "code",
   "execution_count": null,
   "id": "de0153994c1ca4ad",
   "metadata": {},
   "outputs": [],
   "source": [
    "# Préparation pour l'affichage\n",
    "fig_path = pathlib.Path(\"figs/rrt_connect\")\n",
    "fig_path.mkdir(exist_ok=True, parents=True)"
   ]
  },
  {
   "cell_type": "code",
   "execution_count": null,
   "id": "140ce320b7195fe7",
   "metadata": {},
   "outputs": [],
   "source": [
    "def rrt_connect(world: np.ndarray[bool], start: np.ndarray, goal: np.ndarray, max_iter: int, step_size: float,\n",
    "                show: bool = False) -> (Graph, Graph, Node, Node):\n",
    "    \"\"\"\n",
    "    Rapidly-exploring Random Trees Connect (RRT-Connect)\n",
    "    :param world: Grille d'occupation (False = obstacle, True = zone libre)\n",
    "    :param start: Position de départ\n",
    "    :param goal: Position d'arrivée\n",
    "    :param max_iter: Nombre maximal d'itérations\n",
    "    :param step_size: Taille du pas\n",
    "    :param show: Afficher les étapes intermédiaires\n",
    "    :return: (graph_a, graph_b, start_node, goal_node)\n",
    "    \"\"\"\n",
    "    # Start graph\n",
    "    graph_start = Graph()\n",
    "    start_node = Node(start)\n",
    "    graph_start.add_vertex(start_node)\n",
    "\n",
    "    # Goal graph\n",
    "    graph_goal = Graph()\n",
    "    goal_node = Node(goal)\n",
    "    graph_goal.add_vertex(goal_node)\n",
    "\n",
    "    # Variables pour alterner entre les arbres\n",
    "    graph_a, graph_b = graph_start, graph_goal\n",
    "    for k in range(max_iter):\n",
    "        # TODO Appliquer un pas de l'algorithme RRT-Connect pour le graphe graph_a\n",
    "        q_a_rand = ...\n",
    "        q_a_near = ...\n",
    "        is_valid_a, q_a_new = ..., ...\n",
    "\n",
    "        if not is_valid_a:\n",
    "            # Si le pas n'est pas valide, on inverse les graphes et on recommence\n",
    "            graph_a, graph_b = graph_b, graph_a\n",
    "            continue\n",
    "\n",
    "        # TODO Ajouter le noeud au graphe (et l'arête) si la configuration est valide\n",
    "        ...\n",
    "\n",
    "        # On extend maintenant graph_b vers q_a_new\n",
    "        # TODO Trouver le noeud le plus proche de q_a_new dans graph_b\n",
    "        q_b_near = ...\n",
    "        while True:\n",
    "            # TODO calculer la distance entre q_a_new et q_b_near\n",
    "            distance = ...\n",
    "\n",
    "            if distance < step_size and is_valid_conf(world, q_b_near.pos, q_a_new.pos):\n",
    "                # Si la distance est plus petite que le pas et que le déplacement est valide, on peut connecter les deux arbres\n",
    "                graph_a.union(graph_b)\n",
    "                graph_a.add_edge(q_a_new, q_b_near)\n",
    "                return graph_a, graph_b, start_node, goal_node\n",
    "\n",
    "            # TODO Faire le pas vers q_b_new\n",
    "            is_valid_b, q_b_new = ..., ...\n",
    "\n",
    "            if not is_valid_b:\n",
    "                # Si le pas n'est pas valide, on inverse les graphes et on recommence\n",
    "                graph_a, graph_b = graph_b, graph_a\n",
    "                break\n",
    "\n",
    "            # TODO Ajouter le noeud au graphe (et l'arête) si la configuration est valide\n",
    "            ...\n",
    "\n",
    "            # Mise à jour pour la prochaine itération, q_b_new devient le nouveau noeud le plus proche q_b_near\n",
    "            q_b_near = q_b_new\n",
    "\n",
    "        # Affichage\n",
    "        if show:\n",
    "            fig, ax = plt.subplots()\n",
    "            ax.imshow(world, cmap='gray')\n",
    "            ax.plot(start[0], start[1], 'ro', label='Start')\n",
    "            ax.plot(goal[0], goal[1], 'go', label='Goal')\n",
    "            ax.plot(q_a_rand[0], q_a_rand[1], 'rx', label='Random')\n",
    "            ax.plot([q_a_near.pos[0], q_a_rand[0]], [q_a_near.pos[1], q_a_rand[1]], color='pink', linestyle='--',\n",
    "                    label='Direction')\n",
    "            ax.plot(q_a_near.pos[0], q_a_near.pos[1], 'bo', label='Nearest A')\n",
    "            ax.plot(q_a_new.pos[0], q_a_new.pos[1], color='pink', marker='o', label='New A')\n",
    "            for node in graph_a.vertices.values():\n",
    "                for neighbour_id in graph_a.edges[node.id]:\n",
    "                    neighbour = graph_a.vertices[neighbour_id]\n",
    "                    ax.plot([node.pos[0], neighbour.pos[0]], [node.pos[1], neighbour.pos[1]], 'b')\n",
    "            for node in graph_b.vertices.values():\n",
    "                for neighbour_id in graph_b.edges[node.id]:\n",
    "                    neighbour = graph_b.vertices[neighbour_id]\n",
    "                    ax.plot([node.pos[0], neighbour.pos[0]], [node.pos[1], neighbour.pos[1]], 'g')\n",
    "            ax.legend()\n",
    "            ax.set_title(f'RRT-Connect at {k}')\n",
    "            plt.savefig(fig_path / f'{k:04d}.png')\n",
    "            plt.close(fig)\n",
    "\n",
    "    return graph_start, graph_goal, start_node, goal_node"
   ]
  },
  {
   "cell_type": "code",
   "execution_count": null,
   "id": "e718d404761d0c32",
   "metadata": {},
   "outputs": [],
   "source": [
    "# Vous pouvez inspecter `figs/rrt_connect` pour voir les images générées\n",
    "rrt_connect(world, np.array([50, 50]), np.array([600, 300]), 1_000, 20, show=True)"
   ]
  },
  {
   "cell_type": "code",
   "execution_count": null,
   "id": "d168764b86f9bc2b",
   "metadata": {},
   "outputs": [],
   "source": [
    "def show_rrt_connect(graph_a: Graph, graph_b: Graph, start_node: Node, goal_node: Node, world: np.ndarray[bool]):\n",
    "    path = graph_a.path_between(start_node, goal_node)\n",
    "    fig, ax = plt.subplots()\n",
    "    ax.imshow(world, cmap='gray')\n",
    "    ax.plot(start_node.pos[0], start_node.pos[1], 'ro', label='Start')\n",
    "    ax.plot(goal_node.pos[0], goal_node.pos[1], 'go', label='Goal')\n",
    "    for node in graph_a.vertices.values():\n",
    "        for neighbour_id in graph_a.edges[node.id]:\n",
    "            neighbour = graph_a.vertices[neighbour_id]\n",
    "            ax.plot([node.pos[0], neighbour.pos[0]], [node.pos[1], neighbour.pos[1]], 'b')\n",
    "\n",
    "    if not path:\n",
    "        for node in graph_b.vertices.values():\n",
    "            for neighbour_id in graph_b.edges[node.id]:\n",
    "                neighbour = graph_b.vertices[neighbour_id]\n",
    "                ax.plot([node.pos[0], neighbour.pos[0]], [node.pos[1], neighbour.pos[1]], 'g')\n",
    "\n",
    "    for i in range(len(path) - 1):\n",
    "        ax.plot([path[i].pos[0], path[i + 1].pos[0]], [path[i].pos[1], path[i + 1].pos[1]], 'ro')\n",
    "\n",
    "    fig.show()\n"
   ]
  },
  {
   "cell_type": "code",
   "execution_count": null,
   "id": "58fffc0ddecbc160",
   "metadata": {},
   "outputs": [],
   "source": [
    "# Ne pas afficher permet d'exécuter rrt plus rapidement\n",
    "start = np.array([100, 50])\n",
    "goal = np.array([500, 300])\n",
    "graph_a, graph_b, start_node, goal_node = rrt_connect(world, start, goal, 5_000, 20)\n",
    "\n",
    "# Trouver le chemin entre les deux arbres\n",
    "path = graph_a.path_between(start_node, goal_node)\n",
    "\n",
    "# Affichage du graphe\n",
    "show_rrt_connect(graph_a, graph_b, start_node, goal_node, world)"
   ]
  },
  {
   "cell_type": "markdown",
   "id": "e601228fa61cd796",
   "metadata": {},
   "source": [
    "## Question 2.3 - Analyse\n",
    "\n"
   ]
  },
  {
   "cell_type": "markdown",
   "id": "57cc3519f5998470",
   "metadata": {},
   "source": [
    "Dans cette section, vous devez répondre aux questions d'analyse ci-dessous.\n",
    "Vous devrez utiliser les implémentations de RRT et RRT-Connect pour répondre à ces questions.\n",
    "Dans les cellules de code, laisser les traces de code qui ont mené à vos réponses.\n",
    "Dans les cellules de texte, rédiger vos réponses aux endroits indiqués."
   ]
  },
  {
   "cell_type": "markdown",
   "id": "6cb0450649a1d1f",
   "metadata": {},
   "source": [
    "### Autre carte\n",
    "Dans les sections précédentes, nous avons utilisé une carte simple (`data/world.png`) pour tester nos algorithmes.\n",
    "Nous allons maintenant utiliser une carte plus complexe pour tester nos algorithmes: la même carte que celle utilisée dans la question 1.\n",
    "Dans la cellule ci-dessous, chargez la carte `data/world_q1.png` et affichez le résultat de `rrt`.\n"
   ]
  },
  {
   "cell_type": "code",
   "execution_count": null,
   "id": "837274ed428486ba",
   "metadata": {},
   "outputs": [],
   "source": [
    "# TODO Charger la carte data/world_q1.png et afficher le résultat de rrt\n",
    "start_pos = np.array([50, 50])\n",
    "\n",
    "# TODO Affichage du graphe\n",
    "..."
   ]
  },
  {
   "cell_type": "markdown",
   "id": "2be5a3957491c783",
   "metadata": {},
   "source": [
    "### Compromis entre le nombre d'itérations et la qualité de l'exploration\n",
    "\n",
    "**Faites varier le nombre d'itérations de parmis `[100, 1000, 2000, 5000, 10_000]` pour l'algorithme RRT. Que remarquez-vous en termes de qualité de l'exploration? Comment expliquez-vous ce phénomène?**\n",
    "\n",
    "TODO Votre réponse...\n"
   ]
  },
  {
   "cell_type": "code",
   "execution_count": null,
   "id": "14f9000762a93720",
   "metadata": {},
   "outputs": [],
   "source": [
    "# TODO code pour votre analyse"
   ]
  },
  {
   "cell_type": "markdown",
   "id": "eb6e1669ba2d1be9",
   "metadata": {},
   "source": [
    "### Compromis entre la taille du pas et la qualité de l'exploration\n",
    "\n",
    "**Faites varier la taille du pas de 1 à 100 (choisissez cinq valeurs de pas représentatifs à présenter) pour l'algorithme RRT. Que remarquez-vous en termes de qualité de l'exploration? Quel paramètre devez-vous ajuster pour obtenir une meilleure exploration?**\n",
    "\n",
    "TODO Votre réponse...\n"
   ]
  },
  {
   "cell_type": "code",
   "execution_count": null,
   "id": "48318bbe536de59a",
   "metadata": {},
   "outputs": [],
   "source": [
    "# TODO code pour votre analyse"
   ]
  },
  {
   "cell_type": "markdown",
   "id": "4364217a94e7da08",
   "metadata": {},
   "source": [
    "### Compromis entre le nombre d'itérations et la qualité du chemin\n",
    "\n",
    "**Faites varier le nombre d'itérations de `[100, 1000, 2000, 5000, 10_000]` pour l'algorithme RRT-Connect. Que remarquez-vous lorsque le nombre d'itérations varie? Pour un même nombre d'itérations, quelle différence observez-vous entre RRT et RRT-Connect?**\n",
    "\n",
    "TODO Votre réponse..."
   ]
  },
  {
   "cell_type": "code",
   "execution_count": null,
   "id": "602ad07828cc77da",
   "metadata": {},
   "outputs": [],
   "source": [
    "# TODO code pour votre analyse"
   ]
  },
  {
   "cell_type": "markdown",
   "id": "f97a4324d758aacb",
   "metadata": {},
   "source": [
    "### Compromis entre la taille du pas et la qualité du chemin [GLO-7021 seulement]\n",
    "\n",
    "**Faites varier la taille du pas de 1 à 100 (choisissez cinq valeurs de pas représentatifs à présenter) pour l'algorithme RRT-Connect. Ajustez le nombre d'itérations pour chaque taille de pas pour que l'algorithme trouve un chemin. Que remarquez-vous en termes de qualité du chemin trouvé (sa longueur par exemple)? Comment expliquez-vous ce phénomène?**\n",
    "\n",
    "TODO Votre réponse..."
   ]
  },
  {
   "cell_type": "code",
   "execution_count": null,
   "id": "d06af126baeb8f7e",
   "metadata": {},
   "outputs": [],
   "source": [
    "# TODO code pour votre analyse"
   ]
  },
  {
   "cell_type": "markdown",
   "id": "f9013532060420fa",
   "metadata": {},
   "source": [
    "### Blocage de la planification de chemin [GLO-7021 seulement]\n",
    "\n",
    "**Modifiez `data/world_q1.png` avec un logiciel d'édition d'images (e.g., GIMP, Pain.NET, Photoshop, etc.) et dessinez un obstacle qui bloque le chemin entre le point de départ et le point d'arrivée. Exécutez l'algorithme RRT-Connect sur cette nouvelle carte. Que se passe-t-il? Expliquez pourquoi l'algorithme ne trouve pas de chemin.**\n",
    "\n",
    "TODO Votre réponse...\n",
    "\n"
   ]
  },
  {
   "cell_type": "code",
   "execution_count": null,
   "id": "c11cc725037eb082",
   "metadata": {},
   "outputs": [],
   "source": [
    "# TODO code pour votre analyse"
   ]
  },
  {
   "cell_type": "markdown",
   "id": "2426ded912fc5e31",
   "metadata": {},
   "source": [
    "### Cas limites [GLO-7021 seulement]\n",
    "\n",
    "**À partir de vos expérimentations avec RRT et RRT-Connect, concevez une carte où, malgré qu'un chemin existe entre le point de départ et le point d'arrivée, les algorithmes ont de la difficulté à le trouver. Expliquez pourquoi.**\n",
    "\n",
    "TODO Votre réponse...\n"
   ]
  },
  {
   "cell_type": "code",
   "execution_count": null,
   "id": "515fef5de6fd3035",
   "metadata": {},
   "outputs": [],
   "source": [
    "# TODO code pour votre analyse"
   ]
  }
 ],
 "metadata": {
  "kernelspec": {
   "display_name": "Python 3",
   "language": "python",
   "name": "python3"
  },
  "language_info": {
   "codemirror_mode": {
    "name": "ipython",
    "version": 3
   },
   "file_extension": ".py",
   "mimetype": "text/x-python",
   "name": "python",
   "nbconvert_exporter": "python",
   "pygments_lexer": "ipython3",
   "version": "3.11.1"
  }
 },
 "nbformat": 4,
 "nbformat_minor": 5
}
